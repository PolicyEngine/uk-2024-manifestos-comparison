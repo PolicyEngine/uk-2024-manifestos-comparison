{
 "cells": [
  {
   "cell_type": "code",
   "execution_count": 2,
   "metadata": {},
   "outputs": [
    {
     "ename": "ModuleNotFoundError",
     "evalue": "No module named 'policyengine_uk'",
     "output_type": "error",
     "traceback": [
      "\u001b[0;31m---------------------------------------------------------------------------\u001b[0m",
      "\u001b[0;31mModuleNotFoundError\u001b[0m                       Traceback (most recent call last)",
      "\u001b[0;32m/var/folders/t5/1q_n2l7d1ndddzm52gy9n93w0000gn/T/ipykernel_58453/3753405856.py\u001b[0m in \u001b[0;36m<cell line: 1>\u001b[0;34m()\u001b[0m\n\u001b[0;32m----> 1\u001b[0;31m \u001b[0;32mfrom\u001b[0m \u001b[0mpolicyengine_uk\u001b[0m \u001b[0;32mimport\u001b[0m \u001b[0mMicrosimulation\u001b[0m\u001b[0;34m\u001b[0m\u001b[0;34m\u001b[0m\u001b[0m\n\u001b[0m\u001b[1;32m      2\u001b[0m \u001b[0;32mfrom\u001b[0m \u001b[0mpolicyengine_core\u001b[0m\u001b[0;34m.\u001b[0m\u001b[0mreforms\u001b[0m \u001b[0;32mimport\u001b[0m \u001b[0mReform\u001b[0m\u001b[0;34m\u001b[0m\u001b[0;34m\u001b[0m\u001b[0m\n\u001b[1;32m      3\u001b[0m \u001b[0;34m\u001b[0m\u001b[0m\n\u001b[1;32m      4\u001b[0m reform = Reform.from_dict({\n\u001b[1;32m      5\u001b[0m   \"gov.contrib.conservatives.cb_hitc_household\": {\n",
      "\u001b[0;31mModuleNotFoundError\u001b[0m: No module named 'policyengine_uk'"
     ]
    }
   ],
   "source": [
    "from policyengine_uk import Microsimulation\n",
    "from policyengine_core.reforms import Reform\n",
    "\n",
    "reform = Reform.from_dict({\n",
    "  \"gov.contrib.conservatives.cb_hitc_household\": {\n",
    "    \"2026-01-01.2039-12-31\": True\n",
    "  },\n",
    "  \"gov.contrib.conservatives.pensioner_personal_allowance\": {\n",
    "    \"2025-01-01.2025-12-31\": 13040,\n",
    "    \"2026-01-01.2026-12-31\": 13370,\n",
    "    \"2027-01-01.2027-12-31\": 13710,\n",
    "    \"2028-01-01.2028-12-31\": 14060,\n",
    "    \"2029-01-01.2030-12-31\": 14450\n",
    "  },\n",
    "  \"gov.contrib.policyengine.budget.corporate_incident_tax_change\": {\n",
    "    \"2025-01-01.2025-12-31\": 1.98,\n",
    "    \"2026-01-01.2026-12-31\": 2.98,\n",
    "    \"2027-01-01.2027-12-31\": 4,\n",
    "    \"2028-01-01.2028-12-31\": 5,\n",
    "    \"2029-01-01.2030-12-31\": 6\n",
    "  },\n",
    "  \"gov.contrib.policyengine.budget.education\": {\n",
    "    \"2025-01-01.2027-12-31\": 0.3,\n",
    "    \"2028-01-01.2028-12-31\": 0.5,\n",
    "    \"2029-01-01.2029-12-31\": 1\n",
    "  },\n",
    "  \"gov.contrib.policyengine.budget.nhs\": {\n",
    "    \"2025-01-01.2025-12-31\": 0.274,\n",
    "    \"2026-01-01.2026-12-31\": 0.281,\n",
    "    \"2027-01-01.2027-12-31\": 0.535,\n",
    "    \"2028-01-01.2028-12-31\": 0.588,\n",
    "    \"2029-01-01.2029-12-31\": 0.609\n",
    "  },\n",
    "  \"gov.contrib.policyengine.budget.other_public_spending\": {\n",
    "    \"2025-01-01.2025-12-31\": -3.745,\n",
    "    \"2026-01-01.2026-12-31\": -7.945,\n",
    "    \"2027-01-01.2027-12-31\": -11.35,\n",
    "    \"2028-01-01.2028-12-31\": -12.474,\n",
    "    \"2029-01-01.2029-12-31\": -13.104\n",
    "  },\n",
    "  \"gov.hmrc.income_tax.charges.CB_HITC.phase_out_end\": {\n",
    "    \"2026-01-01.2039-12-31\": 160000\n",
    "  },\n",
    "  \"gov.hmrc.income_tax.charges.CB_HITC.phase_out_start\": {\n",
    "    \"2026-01-01.2039-12-31\": 120000\n",
    "  },\n",
    "  \"gov.hmrc.national_insurance.class_1.rates.employee.main\": {\n",
    "    \"2025-01-01.2026-12-31\": 0.07,\n",
    "    \"2027-01-01.2030-12-31\": 0.06\n",
    "  },\n",
    "  \"gov.hmrc.national_insurance.class_4.rates.main\": {\n",
    "    \"2025-01-01.2025-12-31\": 0.05,\n",
    "    \"2026-01-01.2026-12-31\": 0.04,\n",
    "    \"2027-01-01.2027-12-31\": 0.03,\n",
    "    \"2028-01-01.2028-12-31\": 0.02,\n",
    "    \"2029-01-01.2030-12-31\": 0\n",
    "  },\n",
    "  \"gov.hmrc.stamp_duty.residential.purchase.main.first.max\": {\n",
    "    \"2025-01-01.2039-12-31\": 500000000\n",
    "  },\n",
    "  \"gov.hmrc.stamp_duty.residential.purchase.main.first.rate[1].rate\": {\n",
    "    \"2025-01-01.2039-12-31\": 0\n",
    "  }\n",
    "}, country_id=\"uk\")\n",
    "\n",
    "\n",
    "baseline = Microsimulation()\n",
    "reformed = Microsimulation(reform=reform)\n",
    "\n",
    "print(reformed.calculate(\"household_net_income\", 2028).sum()/1e9 - baseline.calculate(\"household_net_income\", 2028).sum()/1e9)"
   ]
  }
 ],
 "metadata": {
  "kernelspec": {
   "display_name": "policyengine",
   "language": "python",
   "name": "python3"
  },
  "language_info": {
   "codemirror_mode": {
    "name": "ipython",
    "version": 3
   },
   "file_extension": ".py",
   "mimetype": "text/x-python",
   "name": "python",
   "nbconvert_exporter": "python",
   "pygments_lexer": "ipython3",
   "version": "3.9.16"
  }
 },
 "nbformat": 4,
 "nbformat_minor": 2
}
